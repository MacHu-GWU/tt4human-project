{
 "cells": [
  {
   "cell_type": "markdown",
   "id": "55d65d85-d64b-4e95-bf4d-e5debca39bf3",
   "metadata": {},
   "source": [
    "# Quick Start\n",
    "\n",
    "## What is Truth Table\n",
    "\n",
    "A [Truth Table](https://en.wikipedia.org/wiki/Truth_table) is like a cheat sheet that helps us figure out if something is true or false based on certain **\"conditions\"**. We call a specific combination of conditions a **\"case.\"** The outcome, whether it's true or false, is what we call the **\"target.\"**\n",
    "\n",
    "Imagine you're trying to decide whether or not you should go out. Two things could affect your decision: the weather and what time you wake up. So, in this situation, the weather and your wake-up time are the \"conditions\". When you combine these conditions, like if it's sunny and you woke up early, that combination is a \"case.\" And the big question of whether you should go out or not is your \"target.\" The Truth Table helps us organize all these cases and their outcomes to make decisions easier.\n",
    "\n",
    "For example, we have two types of conditions: ``weather`` and ``get_up`` (when you get up). And we want to determine if you will go out. ``weather`` has two possible values: ``is_sunny`` and ``not_sunny``. ``get_up`` has three possible values: ``before_10``, ``10_to_2``, ``after_2``."
   ]
  },
  {
   "cell_type": "code",
   "execution_count": 1,
   "id": "57d3db70-754a-4d32-8982-d370112ebd5d",
   "metadata": {},
   "outputs": [
    {
     "data": {
      "text/html": [
       "<div>\n",
       "<style scoped>\n",
       "    .dataframe tbody tr th:only-of-type {\n",
       "        vertical-align: middle;\n",
       "    }\n",
       "\n",
       "    .dataframe tbody tr th {\n",
       "        vertical-align: top;\n",
       "    }\n",
       "\n",
       "    .dataframe thead th {\n",
       "        text-align: right;\n",
       "    }\n",
       "</style>\n",
       "<table border=\"1\" class=\"dataframe\">\n",
       "  <thead>\n",
       "    <tr style=\"text-align: right;\">\n",
       "      <th></th>\n",
       "      <th>weather</th>\n",
       "      <th>get_up</th>\n",
       "      <th>go_out</th>\n",
       "    </tr>\n",
       "  </thead>\n",
       "  <tbody>\n",
       "    <tr>\n",
       "      <th>0</th>\n",
       "      <td>is_sunny</td>\n",
       "      <td>before_10</td>\n",
       "      <td>1</td>\n",
       "    </tr>\n",
       "    <tr>\n",
       "      <th>1</th>\n",
       "      <td>is_sunny</td>\n",
       "      <td>10_to_2</td>\n",
       "      <td>1</td>\n",
       "    </tr>\n",
       "    <tr>\n",
       "      <th>2</th>\n",
       "      <td>is_sunny</td>\n",
       "      <td>after_2</td>\n",
       "      <td>0</td>\n",
       "    </tr>\n",
       "    <tr>\n",
       "      <th>3</th>\n",
       "      <td>not_sunny</td>\n",
       "      <td>before_10</td>\n",
       "      <td>0</td>\n",
       "    </tr>\n",
       "    <tr>\n",
       "      <th>4</th>\n",
       "      <td>not_sunny</td>\n",
       "      <td>10_to_2</td>\n",
       "      <td>0</td>\n",
       "    </tr>\n",
       "    <tr>\n",
       "      <th>5</th>\n",
       "      <td>not_sunny</td>\n",
       "      <td>after_2</td>\n",
       "      <td>0</td>\n",
       "    </tr>\n",
       "  </tbody>\n",
       "</table>\n",
       "</div>"
      ],
      "text/plain": [
       "     weather     get_up  go_out\n",
       "0   is_sunny  before_10       1\n",
       "1   is_sunny    10_to_2       1\n",
       "2   is_sunny    after_2       0\n",
       "3  not_sunny  before_10       0\n",
       "4  not_sunny    10_to_2       0\n",
       "5  not_sunny    after_2       0"
      ]
     },
     "execution_count": 1,
     "metadata": {},
     "output_type": "execute_result"
    }
   ],
   "source": [
    "import pandas as pd\n",
    "\n",
    "df = pd.DataFrame(\n",
    "    [\n",
    "        (\"is_sunny\", \"before_10\", 1),\n",
    "        (\"is_sunny\", \"10_to_2\", 1),\n",
    "        (\"is_sunny\", \"after_2\", 0),\n",
    "        (\"not_sunny\", \"before_10\", 0),\n",
    "        (\"not_sunny\", \"10_to_2\", 0),\n",
    "        (\"not_sunny\", \"after_2\", 0),\n",
    "    ],\n",
    "    columns=[\"weather\", \"get_up\", \"go_out\"],\n",
    ")\n",
    "df"
   ]
  },
  {
   "cell_type": "markdown",
   "id": "10b0d34b-2cbe-4fdb-954b-89a6626c174d",
   "metadata": {},
   "source": [
    "## Create a Truth Table And Evaluate Case\n",
    "\n",
    "A truth table is structured with headers and rows. Think of the headers as the columns in a data table. The final column is called the \"target\", while the preceding columns are known as \"conditions\". The rows represent a collection of \"cases\". In each row, the last element is the \"target\", which is a boolean value, and the preceding elements are the \"conditions\".\n",
    "\n",
    "1. You can create truth table from scratch. Then you can use the ``TruthTable.evaluate()`` method to get the \"target\"."
   ]
  },
  {
   "cell_type": "code",
   "execution_count": 2,
   "id": "fb815f53-88ec-410c-a1ba-adcd83b64546",
   "metadata": {},
   "outputs": [
    {
     "data": {
      "text/plain": [
       "True"
      ]
     },
     "execution_count": 2,
     "metadata": {},
     "output_type": "execute_result"
    }
   ],
   "source": [
    "from tt4human.api import TruthTable\n",
    "\n",
    "# create Truth Table\n",
    "tt = TruthTable.new(\n",
    "    headers=[\"weather\", \"get_up\", \"go_out\"],\n",
    "    rows=[\n",
    "        (\"is_sunny\", \"before_10\", True),\n",
    "        (\"is_sunny\", \"10_to_2\", True),\n",
    "        (\"is_sunny\", \"after_2\", False),\n",
    "        (\"not_sunny\", \"before_10\", False),\n",
    "        (\"not_sunny\", \"10_to_2\", False),\n",
    "        (\"not_sunny\", \"after_2\", False),\n",
    "    ],\n",
    ")\n",
    "tt.evaluate(case=dict(weather=\"is_sunny\", get_up=\"before_10\"))"
   ]
  },
  {
   "cell_type": "markdown",
   "id": "d4ad3817-cf27-4133-a983-f16e18a276f0",
   "metadata": {},
   "source": [
    "2. You can also load Truth Table from a CSV file. The last column can be any \"boolean-liked\" value like ``[\"true\", \"false\", \"t\", \"f\", \"yes\", \"no\", \"y\", \"n\", \"1\", \"0\", \"\"]``."
   ]
  },
  {
   "cell_type": "code",
   "execution_count": 3,
   "id": "97ef4abc-cf4e-4985-8600-1db60066e476",
   "metadata": {},
   "outputs": [
    {
     "name": "stdout",
     "output_type": "stream",
     "text": [
      "weather\tget_up\tgo_out\n",
      "is_sunny\tbefore_10\t1\n",
      "is_sunny\t10_to_2\t1\n",
      "is_sunny\tafter_2\t0\n",
      "not_sunny\tbefore_10\t0\n",
      "not_sunny\t10_to_2\t0\n",
      "not_sunny\tafter_2\t0\n"
     ]
    }
   ],
   "source": [
    "# content of the CSV file\n",
    "from pathlib import Path\n",
    "\n",
    "p = Path(\"go_out.tsv\")\n",
    "print(p.read_text())"
   ]
  },
  {
   "cell_type": "code",
   "execution_count": 4,
   "id": "3769f83a-a66b-4c8d-911d-45639a1f3780",
   "metadata": {},
   "outputs": [
    {
     "data": {
      "text/plain": [
       "True"
      ]
     },
     "execution_count": 4,
     "metadata": {},
     "output_type": "execute_result"
    }
   ],
   "source": [
    "# load Truth Table from csv file\n",
    "tt = TruthTable.from_csv(path=\"go_out.tsv\", sep=\"\\t\")\n",
    "tt.evaluate(case=dict(weather=\"is_sunny\", get_up=\"10_to_2\"))"
   ]
  },
  {
   "cell_type": "markdown",
   "id": "4fe9dd9b-187d-472f-ac58-c3600b40b3b8",
   "metadata": {},
   "source": [
    "3. You can also load Truth Table from a Pandas dataframe."
   ]
  },
  {
   "cell_type": "code",
   "execution_count": 5,
   "id": "e7aedaf7-586d-416d-aba5-10134b5db468",
   "metadata": {},
   "outputs": [
    {
     "data": {
      "text/plain": [
       "False"
      ]
     },
     "execution_count": 5,
     "metadata": {},
     "output_type": "execute_result"
    }
   ],
   "source": [
    "# load Truth Table from pandas Dataframe\n",
    "df = pd.DataFrame(\n",
    "    [\n",
    "        (\"is_sunny\", \"before_10\", 1),\n",
    "        (\"is_sunny\", \"10_to_2\", 1),\n",
    "        (\"is_sunny\", \"after_2\", 0),\n",
    "        (\"not_sunny\", \"before_10\", 0),\n",
    "        (\"not_sunny\", \"10_to_2\", 0),\n",
    "        (\"not_sunny\", \"after_2\", 0),\n",
    "    ],\n",
    "    columns=[\"weather\", \"get_up\", \"go_out\"],\n",
    ")\n",
    "tt = TruthTable.from_pandas_df(df)\n",
    "tt.evaluate(case=dict(weather=\"is_sunny\", get_up=\"after_2\"))"
   ]
  },
  {
   "cell_type": "markdown",
   "id": "a6f89c76-72b7-49ef-b25c-8d70e742467b",
   "metadata": {},
   "source": [
    "## Edit Truth Table in Excel and Use it in Your Code\n",
    "\n",
    "Typically, we manage truth tables using tools like Excel or Google Sheets, making it easy for humans to edit them. However, keeping these tables in sync with your code can be quite cumbersome. That's where ``tt4human`` comes in handy. It can automatically generate a Python module based on the provided ``TruthTable``, which you can seamlessly incorporate into your code. It provides an [enum](https://docs.python.org/3/library/enum.html) class for each condition and a ``TruthTable`` object that you can import into your code, simplifying the process of working with truth tables and ensuring consistency between your code and the table."
   ]
  },
  {
   "cell_type": "code",
   "execution_count": 6,
   "id": "0d93f09a-10f5-45d0-8437-fa396817ed84",
   "metadata": {},
   "outputs": [
    {
     "name": "stdout",
     "output_type": "stream",
     "text": [
      "# -*- coding: utf-8 -*-\n",
      "\n",
      "\"\"\"\n",
      "this module is generated by https://pypi.org/project/tt4human = 0.3.1\n",
      "\"\"\"\n",
      "\n",
      "from pathlib import Path\n",
      "from tt4human.api import BetterStrEnum, TruthTable\n",
      "\n",
      "\n",
      "class WeatherEnum(BetterStrEnum):\n",
      "    is_sunny = \"is_sunny\"\n",
      "    not_sunny = \"not_sunny\"\n",
      "\n",
      "\n",
      "class GetUpEnum(BetterStrEnum):\n",
      "    before_10 = \"before_10\"\n",
      "    _10_to_2 = \"10_to_2\"\n",
      "    after_2 = \"after_2\"\n",
      "\n",
      "\n",
      "truth_table = TruthTable.from_csv(\n",
      "    path=Path(__file__).absolute().parent.joinpath(\"do_you_go_out.tsv\"),\n",
      ")\n",
      "\n",
      "if __name__ == \"__main__\":\n",
      "    assert truth_table.evaluate(case={'weather': 'is_sunny', 'get_up': 'before_10'}) is True\n"
     ]
    }
   ],
   "source": [
    "tt.generate_module(\n",
    "    dir_path=Path.cwd(),\n",
    "    module_name=\"do_you_go_out\",\n",
    "    overwrite=True,\n",
    ")\n",
    "# it automatically creates the ``do_you_go_out.py`` module\n",
    "path_python_module = Path(\"do_you_go_out.py\")\n",
    "print(path_python_module.read_text())"
   ]
  },
  {
   "cell_type": "code",
   "execution_count": 7,
   "id": "be2a306d-e716-49c2-b765-5fd754bdcee9",
   "metadata": {},
   "outputs": [
    {
     "name": "stdout",
     "output_type": "stream",
     "text": [
      "weather\tget_up\tgo_out\n",
      "is_sunny\tbefore_10\tTrue\n",
      "is_sunny\t10_to_2\tTrue\n",
      "is_sunny\tafter_2\tFalse\n",
      "not_sunny\tbefore_10\tFalse\n",
      "not_sunny\t10_to_2\tFalse\n",
      "not_sunny\tafter_2\tFalse\n",
      "\n"
     ]
    }
   ],
   "source": [
    "# it also create a snapshot of your Truth Table data in ``do_you_go_out.tsv``\n",
    "path_tsv = Path(\"do_you_go_out.tsv\")\n",
    "print(path_tsv.read_text())"
   ]
  },
  {
   "cell_type": "code",
   "execution_count": null,
   "id": "d00e995c-fa2d-4c07-82c1-97e5d14c86d6",
   "metadata": {},
   "outputs": [],
   "source": []
  }
 ],
 "metadata": {
  "kernelspec": {
   "display_name": "Python 3 (ipykernel)",
   "language": "python",
   "name": "python3"
  },
  "language_info": {
   "codemirror_mode": {
    "name": "ipython",
    "version": 3
   },
   "file_extension": ".py",
   "mimetype": "text/x-python",
   "name": "python",
   "nbconvert_exporter": "python",
   "pygments_lexer": "ipython3",
   "version": "3.8.13"
  }
 },
 "nbformat": 4,
 "nbformat_minor": 5
}
